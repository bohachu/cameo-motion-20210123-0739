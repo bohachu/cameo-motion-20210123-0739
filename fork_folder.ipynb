{
 "cells": [
  {
   "cell_type": "code",
   "execution_count": 1,
   "metadata": {},
   "outputs": [
    {
     "data": {
      "application/vnd.jupyter.widget-view+json": {
       "model_id": "1e67f58b66964fa19f737089d1152f22",
       "version_major": 2,
       "version_minor": 0
      },
      "text/plain": [
       "Button(description='創建 app-cameo-run 目錄', layout=Layout(height='40px', width='200px'), style=ButtonStyle())"
      ]
     },
     "metadata": {},
     "output_type": "display_data"
    },
    {
     "data": {
      "application/vnd.jupyter.widget-view+json": {
       "model_id": "2c2ebb31a00c4a128dc65023f050e442",
       "version_major": 2,
       "version_minor": 0
      },
      "text/plain": [
       "Output()"
      ]
     },
     "metadata": {},
     "output_type": "display_data"
    },
    {
     "data": {
      "application/vnd.jupyter.widget-view+json": {
       "model_id": "609604f51d3b412f97759da7189429b7",
       "version_major": 2,
       "version_minor": 0
      },
      "text/plain": [
       "Button(description='創建 cameo-run 目錄', layout=Layout(height='40px', width='200px'), style=ButtonStyle())"
      ]
     },
     "metadata": {},
     "output_type": "display_data"
    },
    {
     "data": {
      "application/vnd.jupyter.widget-view+json": {
       "model_id": "2ef6714e8cd44ab48f0836a7a6f3b9de",
       "version_major": 2,
       "version_minor": 0
      },
      "text/plain": [
       "Output()"
      ]
     },
     "metadata": {},
     "output_type": "display_data"
    },
    {
     "data": {
      "application/vnd.jupyter.widget-view+json": {
       "model_id": "f28ca8593e6b46d6929292c9715927da",
       "version_major": 2,
       "version_minor": 0
      },
      "text/plain": [
       "Button(description='創建 cameo-carousel 目錄', layout=Layout(height='40px', width='200px'), style=ButtonStyle())"
      ]
     },
     "metadata": {},
     "output_type": "display_data"
    },
    {
     "data": {
      "application/vnd.jupyter.widget-view+json": {
       "model_id": "d143e0a4b69e41c5849dbe91e82d380a",
       "version_major": 2,
       "version_minor": 0
      },
      "text/plain": [
       "Output()"
      ]
     },
     "metadata": {},
     "output_type": "display_data"
    },
    {
     "data": {
      "application/vnd.jupyter.widget-view+json": {
       "model_id": "bcae96c77df543e3aa0ae634e3dc13be",
       "version_major": 2,
       "version_minor": 0
      },
      "text/plain": [
       "Button(description='創建 cameo-common 目錄', layout=Layout(height='40px', width='200px'), style=ButtonStyle())"
      ]
     },
     "metadata": {},
     "output_type": "display_data"
    },
    {
     "data": {
      "application/vnd.jupyter.widget-view+json": {
       "model_id": "c2b1c639cc794d16be78f55db7acb981",
       "version_major": 2,
       "version_minor": 0
      },
      "text/plain": [
       "Output()"
      ]
     },
     "metadata": {},
     "output_type": "display_data"
    },
    {
     "data": {
      "application/vnd.jupyter.widget-view+json": {
       "model_id": "5342cce8e7a2497f9d67f092ae7a9cfd",
       "version_major": 2,
       "version_minor": 0
      },
      "text/plain": [
       "Button(description='創建 cameo-line-column 目錄', layout=Layout(height='40px', width='200px'), style=ButtonStyle()…"
      ]
     },
     "metadata": {},
     "output_type": "display_data"
    },
    {
     "data": {
      "application/vnd.jupyter.widget-view+json": {
       "model_id": "064afe6d0b924ca29879fe9a8759d4a1",
       "version_major": 2,
       "version_minor": 0
      },
      "text/plain": [
       "Output()"
      ]
     },
     "metadata": {},
     "output_type": "display_data"
    }
   ],
   "source": [
    "import ipywidgets as widgets\n",
    "from ipywidgets import Button, Layout\n",
    "import os, shutil\n",
    "\n",
    "from IPython.display import display\n",
    "\n",
    "\n",
    "button_app_cameo_run = widgets.Button(description=\"創建 app-cameo-run 目錄\",layout=Layout(width='200px', height='40px'))\n",
    "output_app_cameo_run = widgets.Output()\n",
    "\n",
    "button_cameo_run = widgets.Button(description=\"創建 cameo-run 目錄\",layout=Layout(width='200px', height='40px'))\n",
    "output_cameo_run = widgets.Output()\n",
    "\n",
    "button_cameo_carousel = widgets.Button(description=\"創建 cameo-carousel 目錄\",layout=Layout(width='200px', height='40px'))\n",
    "output_cameo_carousel = widgets.Output()\n",
    "\n",
    "button_cameo_common = widgets.Button(description=\"創建 cameo-common 目錄\",layout=Layout(width='200px', height='40px'))\n",
    "output_cameo_common = widgets.Output()\n",
    "\n",
    "button_cameo_line_column = widgets.Button(description=\"創建 cameo-line-column 目錄\",layout=Layout(width='200px', height='40px'))\n",
    "output_cameo_line_column = widgets.Output()\n",
    "\n",
    "display(button_app_cameo_run,output_app_cameo_run)\n",
    "display(button_cameo_run, output_cameo_run)\n",
    "display(button_cameo_carousel, output_cameo_carousel)\n",
    "display(button_cameo_common, output_cameo_common)\n",
    "display(button_cameo_line_column, output_cameo_line_column)\n",
    "\n",
    "def on_button_clicked_app_cameo_run(b):\n",
    "    with output_app_cameo_run:\n",
    "        print(\"app_cameo_run folder created.\")\n",
    "    if not os.path.exists('./app-cameo-run'):\n",
    "        os.makedirs('./app-cameo-run')\n",
    "    copytree(\"../cameo_motion/src/app-cameo-run\",\"./app-cameo-run\")\n",
    " \n",
    "        \n",
    "def on_button_clicked_cameo_run(b):\n",
    "    with output_cameo_run:\n",
    "        print(\"cameo_run folder created\")\n",
    "    if not os.path.exists('./cameo-run'):\n",
    "        os.makedirs('./cameo-run')\n",
    "    copytree(\"../cameo_motion/src/cameo-run\",\"./cameo-run\")\n",
    "\n",
    "\n",
    "def on_button_clicked_cameo_carousel(b):\n",
    "    with output_cameo_carousel:\n",
    "        print(\"cameo_carousel folder created\")\n",
    "    if not os.path.exists('./cameo-carousel'):\n",
    "        os.makedirs('./cameo-carousel')\n",
    "    copytree(\"../cameo_motion/src/cameo-carousel\",\"./cameo-carousel\")\n",
    "\n",
    "\n",
    "def on_button_clicked_cameo_common(b):\n",
    "    with output_cameo_common:\n",
    "        print(\"cameo_common folder created.\")\n",
    "    if not os.path.exists('./cameo-common'):\n",
    "        os.makedirs('./cameo-common')\n",
    "    print(os.getcwd())\n",
    "    copytree(\"../cameo_motion/src/cameo-common/\",\"./cameo-common/\")\n",
    "\n",
    "        \n",
    "def on_button_clicked_app_cameo_line_column(b):\n",
    "    with output_cameo_line_column:\n",
    "        print(\"cameo-line-column folder created.\")\n",
    "    if not os.path.exists('./cameo-line-column'):\n",
    "        os.makedirs('./cameo-line-column')\n",
    "    copytree(\"../cameo_motion/src/cameo-line-column\",\"./cameo-line-column\")\n",
    "\n",
    "\n",
    "button_app_cameo_run.on_click(on_button_clicked_app_cameo_run)        \n",
    "button_cameo_run.on_click(on_button_clicked_cameo_run)\n",
    "button_cameo_carousel.on_click(on_button_clicked_cameo_carousel)\n",
    "button_cameo_common.on_click(on_button_clicked_cameo_common)\n",
    "button_cameo_line_column.on_click(on_button_clicked_app_cameo_line_column)\n",
    "\n",
    "def copytree(src, dst, symlinks=False, ignore=None):\n",
    "    for item in os.listdir(src):\n",
    "        s = os.path.join(src, item)\n",
    "        d = os.path.join(dst, item)\n",
    "        if os.path.isdir(s):\n",
    "            shutil.copytree(s, d, symlinks, ignore)\n",
    "        else:\n",
    "            shutil.copy2(s, d)"
   ]
  },
  {
   "cell_type": "code",
   "execution_count": null,
   "metadata": {},
   "outputs": [],
   "source": []
  }
 ],
 "metadata": {
  "kernelspec": {
   "display_name": "Python 3",
   "language": "python",
   "name": "python3"
  },
  "language_info": {
   "codemirror_mode": {
    "name": "ipython",
    "version": 3
   },
   "file_extension": ".py",
   "mimetype": "text/x-python",
   "name": "python",
   "nbconvert_exporter": "python",
   "pygments_lexer": "ipython3",
   "version": "3.7.3"
  }
 },
 "nbformat": 4,
 "nbformat_minor": 4
}
