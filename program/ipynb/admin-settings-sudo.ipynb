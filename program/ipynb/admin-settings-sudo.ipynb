{
 "cells": [
  {
   "cell_type": "code",
   "execution_count": 9,
   "metadata": {},
   "outputs": [
    {
     "name": "stdout",
     "output_type": "stream",
     "text": [
      "請輸入密碼,回復WWW原廠設定\n"
     ]
    },
    {
     "name": "stdin",
     "output_type": "stream",
     "text": [
      " ································\n"
     ]
    },
    {
     "name": "stdout",
     "output_type": "stream",
     "text": [
      "www 備份完成\n",
      "回復WWW原廠設定完成\n"
     ]
    },
    {
     "data": {
      "text/plain": [
       "0"
      ]
     },
     "execution_count": 9,
     "metadata": {},
     "output_type": "execute_result"
    }
   ],
   "source": [
    "import getpass\n",
    "import os\n",
    "import os, shutil\n",
    "\n",
    "def copytree(src, dst, symlinks=False, ignore=None):\n",
    "    for item in os.listdir(src):\n",
    "        s = os.path.join(src, item)\n",
    "        d = os.path.join(dst, item)\n",
    "        if os.path.isdir(s):\n",
    "            shutil.copytree(s, d, symlinks, ignore)\n",
    "        else:\n",
    "            shutil.copy2(s, d)\n",
    "            \n",
    "print(\"請輸入密碼,回復WWW原廠設定\")\n",
    "\n",
    "password = getpass.getpass()\n",
    "\n",
    "src_folder=\"./www\"\n",
    "original_folder_name=\"./history/www\"\n",
    "new_folder_name=\"./history/www\"\n",
    "folder_duplicate_number=0\n",
    "\n",
    "while 1:\n",
    "    if not os.path.exists(new_folder_name):\n",
    "        os.makedirs(new_folder_name)\n",
    "        break\n",
    "    else:\n",
    "        folder_duplicate_number+=1\n",
    "        new_folder_name=original_folder_name+\"-\"+str(folder_duplicate_number)\n",
    "\n",
    "copytree(src_folder,new_folder_name)\n",
    "\n",
    "print(\"www 備份完成\")\n",
    "print(\"回復WWW原廠設定完成\")\n",
    "\n",
    "command = \"sudo -S cp -r /var/www/iek.cameo.tw/html-bak/* /var/www/iek.cameo.tw/html/\" #can be any command but don't forget -S as it enables input from stdin\n",
    "command = \"sudo -S chmod -r 777 /var/www/iek.cameo.tw/html/\"\n",
    "os.system('echo %s | %s' % (password, command))\n",
    "\n"
   ]
  },
  {
   "cell_type": "code",
   "execution_count": null,
   "metadata": {},
   "outputs": [],
   "source": []
  }
 ],
 "metadata": {
  "kernelspec": {
   "display_name": "Python 3",
   "language": "python",
   "name": "python3"
  },
  "language_info": {
   "codemirror_mode": {
    "name": "ipython",
    "version": 3
   },
   "file_extension": ".py",
   "mimetype": "text/x-python",
   "name": "python",
   "nbconvert_exporter": "python",
   "pygments_lexer": "ipython3",
   "version": "3.7.3"
  }
 },
 "nbformat": 4,
 "nbformat_minor": 4
}
