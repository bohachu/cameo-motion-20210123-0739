{
 "cells": [
  {
   "cell_type": "code",
   "execution_count": 16,
   "metadata": {},
   "outputs": [
    {
     "data": {
      "application/vnd.jupyter.widget-view+json": {
       "model_id": "04c24b7002ac428a9c03e0de326a1035",
       "version_major": 2,
       "version_minor": 0
      },
      "text/plain": [
       "Button(description='my-web 回復原廠設定', layout=Layout(height='40px', width='200px'), style=ButtonStyle())"
      ]
     },
     "metadata": {},
     "output_type": "display_data"
    },
    {
     "data": {
      "application/vnd.jupyter.widget-view+json": {
       "model_id": "c89ccc14e6f24bdf8560911930e198d5",
       "version_major": 2,
       "version_minor": 0
      },
      "text/plain": [
       "Output()"
      ]
     },
     "metadata": {},
     "output_type": "display_data"
    }
   ],
   "source": [
    "import ipywidgets as widgets\n",
    "from ipywidgets import Button, Layout\n",
    "import os, shutil\n",
    "\n",
    "from IPython.display import display\n",
    "\n",
    "button_myweb_reset = widgets.Button(description=\"my-web 回復原廠設定\",layout=Layout(width='200px', height='40px'))\n",
    "output_myweb_reset = widgets.Output()\n",
    "\n",
    "display(button_myweb_reset,output_myweb_reset)\n",
    "\n",
    "def on_button_clicked_myweb_reset(b):\n",
    "    backup_my_web()\n",
    "    reset_my_web()\n",
    "\n",
    "def reset_my_web():\n",
    "    with output_myweb_reset:\n",
    "        print(\"my-web 重置中...\")\n",
    "    src_folder=\"/etc/skel/my-web\"\n",
    "    new_folder_name=\"./my-web\"\n",
    "\n",
    "    if os.path.exists(new_folder_name):\n",
    "        shutil.rmtree(new_folder_name)\n",
    "    if not os.path.exists(new_folder_name):\n",
    "        os.mkdir(new_folder_name)\n",
    "    copytree(src_folder,new_folder_name)\n",
    "    with output_myweb_reset:\n",
    "        print(\"my-web 重置完成\")\n",
    "    \n",
    "def backup_my_web():\n",
    "    with output_myweb_reset:\n",
    "        print(\"my-web 備份中...\")\n",
    "\n",
    "    src_folder=\"./my-web\"\n",
    "    original_folder_name=\"./history/my-web\"\n",
    "    new_folder_name=\"./history/my-web\"\n",
    "    folder_duplicate_number=0\n",
    "    while 1:\n",
    "        if not os.path.exists(new_folder_name):\n",
    "            os.makedirs(new_folder_name)\n",
    "            break\n",
    "        else:\n",
    "            folder_duplicate_number+=1\n",
    "            new_folder_name=original_folder_name+\"-\"+str(folder_duplicate_number)\n",
    "    copytree(src_folder,new_folder_name)\n",
    "       \n",
    "    with output_myweb_reset:\n",
    "        print(\"my-web 備份至\"+new_folder_name)\n",
    "\n",
    "button_myweb_reset.on_click(on_button_clicked_myweb_reset)\n",
    "\n",
    "def copytree(src, dst, symlinks=False, ignore=None):\n",
    "    for item in os.listdir(src):\n",
    "        if item == \"my-web\": # first item will be my-web which is folder name, but we don't want to create a folder name\n",
    "            continue\n",
    "        s = os.path.join(src, item)\n",
    "        d = os.path.join(dst, item)\n",
    "        if os.path.isdir(s):\n",
    "            shutil.copytree(s, d, symlinks, ignore)\n",
    "        else:\n",
    "            shutil.copy2(s, d)"
   ]
  }
 ],
 "metadata": {
  "kernelspec": {
   "display_name": "Python 3",
   "language": "python",
   "name": "python3"
  },
  "language_info": {
   "codemirror_mode": {
    "name": "ipython",
    "version": 3
   },
   "file_extension": ".py",
   "mimetype": "text/x-python",
   "name": "python",
   "nbconvert_exporter": "python",
   "pygments_lexer": "ipython3",
   "version": "3.7.3"
  }
 },
 "nbformat": 4,
 "nbformat_minor": 4
}
