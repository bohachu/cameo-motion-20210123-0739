{
 "cells": [
  {
   "cell_type": "code",
   "execution_count": 2,
   "metadata": {},
   "outputs": [
    {
     "data": {
      "application/vnd.jupyter.widget-view+json": {
       "model_id": "0c55bcf3f06244aa9044a177f5528b1a",
       "version_major": 2,
       "version_minor": 0
      },
      "text/plain": [
       "Button(description='創建 app-cameo-divergent-stacked-bars 目錄', layout=Layout(height='40px', width='300px'), styl…"
      ]
     },
     "metadata": {},
     "output_type": "display_data"
    },
    {
     "data": {
      "application/vnd.jupyter.widget-view+json": {
       "model_id": "9a588e27e87840d9b608b4b8ee524346",
       "version_major": 2,
       "version_minor": 0
      },
      "text/plain": [
       "Output()"
      ]
     },
     "metadata": {},
     "output_type": "display_data"
    },
    {
     "data": {
      "application/vnd.jupyter.widget-view+json": {
       "model_id": "22313a9e37a54de092e782755ebec08a",
       "version_major": 2,
       "version_minor": 0
      },
      "text/plain": [
       "Button(description='創建 app-cameo-run 目錄', layout=Layout(height='40px', width='300px'), style=ButtonStyle())"
      ]
     },
     "metadata": {},
     "output_type": "display_data"
    },
    {
     "data": {
      "application/vnd.jupyter.widget-view+json": {
       "model_id": "3c0349121aa54e7bbadfefb44f7c6373",
       "version_major": 2,
       "version_minor": 0
      },
      "text/plain": [
       "Output()"
      ]
     },
     "metadata": {},
     "output_type": "display_data"
    },
    {
     "data": {
      "application/vnd.jupyter.widget-view+json": {
       "model_id": "7710a4f227dd43f5a9887812f6568b28",
       "version_major": 2,
       "version_minor": 0
      },
      "text/plain": [
       "Button(description='創建 app-cameo-line 目錄', layout=Layout(height='40px', width='300px'), style=ButtonStyle())"
      ]
     },
     "metadata": {},
     "output_type": "display_data"
    },
    {
     "data": {
      "application/vnd.jupyter.widget-view+json": {
       "model_id": "31707d9e22ad4ee68bac654bac4f2efb",
       "version_major": 2,
       "version_minor": 0
      },
      "text/plain": [
       "Output()"
      ]
     },
     "metadata": {},
     "output_type": "display_data"
    },
    {
     "data": {
      "application/vnd.jupyter.widget-view+json": {
       "model_id": "bbeb8a2b951845838bea8ccdbcc848b7",
       "version_major": 2,
       "version_minor": 0
      },
      "text/plain": [
       "Button(description='創建 app-cameo-rank 目錄', layout=Layout(height='40px', width='300px'), style=ButtonStyle())"
      ]
     },
     "metadata": {},
     "output_type": "display_data"
    },
    {
     "data": {
      "application/vnd.jupyter.widget-view+json": {
       "model_id": "f431f8d3e060464ab55e62c849ace565",
       "version_major": 2,
       "version_minor": 0
      },
      "text/plain": [
       "Output()"
      ]
     },
     "metadata": {},
     "output_type": "display_data"
    },
    {
     "data": {
      "application/vnd.jupyter.widget-view+json": {
       "model_id": "af707d42ca2043cca541c0765435a9aa",
       "version_major": 2,
       "version_minor": 0
      },
      "text/plain": [
       "Button(description='創建 app-cameo-multi-axis-prediction 目錄', layout=Layout(height='40px', width='300px'), style…"
      ]
     },
     "metadata": {},
     "output_type": "display_data"
    },
    {
     "data": {
      "application/vnd.jupyter.widget-view+json": {
       "model_id": "5d620b2f6ce84fa097d29ba61c1161ad",
       "version_major": 2,
       "version_minor": 0
      },
      "text/plain": [
       "Output()"
      ]
     },
     "metadata": {},
     "output_type": "display_data"
    },
    {
     "data": {
      "application/vnd.jupyter.widget-view+json": {
       "model_id": "6d76d395eaf445d29f0a3021b606422e",
       "version_major": 2,
       "version_minor": 0
      },
      "text/plain": [
       "Button(description='創建 app-cameo-map-tw 目錄', layout=Layout(height='40px', width='300px'), style=ButtonStyle())"
      ]
     },
     "metadata": {},
     "output_type": "display_data"
    },
    {
     "data": {
      "application/vnd.jupyter.widget-view+json": {
       "model_id": "a38784b6b0ec404fa492c0b64ba55dd9",
       "version_major": 2,
       "version_minor": 0
      },
      "text/plain": [
       "Output()"
      ]
     },
     "metadata": {},
     "output_type": "display_data"
    }
   ],
   "source": [
    "import ipywidgets as widgets\n",
    "from ipywidgets import Button, Layout\n",
    "import os, shutil\n",
    "\n",
    "from IPython.display import display\n",
    "\n",
    "btn_width='300px'\n",
    "btn_height='40px'\n",
    "\n",
    "button_app_cameo_divergent_stacked_bars = widgets.Button(description=\"創建 app-cameo-divergent-stacked-bars 目錄\",layout=Layout(width=btn_width, height=btn_height))\n",
    "output_app_cameo_divergent_stacked_bars = widgets.Output()\n",
    "\n",
    "button_app_cameo_run = widgets.Button(description=\"創建 app-cameo-run 目錄\",layout=Layout(width=btn_width, height=btn_height))\n",
    "output_app_cameo_run = widgets.Output()\n",
    "\n",
    "button_cameo_app_cameo_line = widgets.Button(description=\"創建 app-cameo-line 目錄\",layout=Layout(width=btn_width, height=btn_height))\n",
    "output_cameo_app_cameo_line = widgets.Output()\n",
    "\n",
    "button_app_cameo_rank = widgets.Button(description=\"創建 app-cameo-rank 目錄\",layout=Layout(width=btn_width, height=btn_height))\n",
    "output_app_cameo_rank = widgets.Output()\n",
    "\n",
    "button_app_cameo_multi_axis_prediction = widgets.Button(description=\"創建 app-cameo-multi-axis-prediction 目錄\",layout=Layout(width=btn_width, height=btn_height))\n",
    "output_app_cameo_multi_axis_prediction = widgets.Output()\n",
    "\n",
    "button_app_cameo_map_tw = widgets.Button(description=\"創建 app-cameo-map-tw 目錄\",layout=Layout(width=btn_width, height=btn_height))\n",
    "output_app_cameo_map_tw = widgets.Output()\n",
    "\n",
    "display(button_app_cameo_divergent_stacked_bars, output_app_cameo_divergent_stacked_bars)\n",
    "display(button_app_cameo_run,output_app_cameo_run)\n",
    "display(button_cameo_app_cameo_line, output_cameo_app_cameo_line)\n",
    "display(button_app_cameo_rank, output_app_cameo_rank)\n",
    "display(button_app_cameo_multi_axis_prediction, output_app_cameo_multi_axis_prediction)\n",
    "display(button_app_cameo_map_tw, output_app_cameo_map_tw)\n",
    "\n",
    "def on_button_clicked_app_cameo_run(b):\n",
    "    src_folder=\"./components/app-cameo-run\"\n",
    "    folder_name=\"./app-cameo-run\"\n",
    "    check_folder_name=\"./app-cameo-run\"\n",
    "    folder_duplicate_number=0\n",
    "    while 1:\n",
    "        if not os.path.exists(check_folder_name):\n",
    "            os.makedirs(check_folder_name)\n",
    "            break\n",
    "        else:\n",
    "            folder_duplicate_number+=1\n",
    "            check_folder_name=folder_name+\"-\"+str(folder_duplicate_number)\n",
    "    copytree(src_folder,check_folder_name)\n",
    "    copyIframeGeneratorToComponet(check_folder_name)\n",
    "    with output_app_cameo_run:\n",
    "        print(check_folder_name+\" creating...\")\n",
    "\n",
    "\n",
    "def on_button_clicked_app_cameo_rank(b):\n",
    "    src_folder=\"./components/app-cameo-rank\"\n",
    "    folder_name=\"./app-cameo-rank\"\n",
    "    check_folder_name=\"./app-cameo-rank\"\n",
    "    folder_duplicate_number=0\n",
    "    while 1:\n",
    "        if not os.path.exists(check_folder_name):\n",
    "            os.makedirs(check_folder_name)\n",
    "            break\n",
    "        else:\n",
    "            folder_duplicate_number+=1\n",
    "            check_folder_name=folder_name+\"-\"+str(folder_duplicate_number)\n",
    "    copytree(src_folder,check_folder_name)\n",
    "    copyIframeGeneratorToComponet(check_folder_name)\n",
    "    with output_app_cameo_rank:\n",
    "        print(check_folder_name+\" creating...\")\n",
    "\n",
    "def on_button_clicked_app_cameo_multi_axis_prediction(b):\n",
    "    src_folder=\"./components/app-cameo-multi-axis-prediction\"\n",
    "    folder_name=\"./app-cameo-multi-axis-prediction\"\n",
    "    check_folder_name=\"./app-cameo-multi-axis-prediction\"\n",
    "    folder_duplicate_number=0\n",
    "    while 1:\n",
    "        if not os.path.exists(check_folder_name):\n",
    "            os.makedirs(check_folder_name)\n",
    "            break\n",
    "        else:\n",
    "            folder_duplicate_number+=1\n",
    "            check_folder_name=folder_name+\"-\"+str(folder_duplicate_number)\n",
    "    copytree(src_folder,check_folder_name)\n",
    "    copyIframeGeneratorToComponet(check_folder_name)\n",
    "    with output_app_cameo_multi_axis_prediction:\n",
    "        print(check_folder_name+\" creating...\")\n",
    "\n",
    "def on_button_clicked_app_cameo_map_tw(b):\n",
    "    src_folder=\"./components/app-cameo-map-tw\"\n",
    "    folder_name=\"./app-cameo-map-tw\"\n",
    "    check_folder_name=\"./app-cameo-map-tw\"\n",
    "    folder_duplicate_number=0\n",
    "    while 1:\n",
    "        if not os.path.exists(check_folder_name):\n",
    "            os.makedirs(check_folder_name)\n",
    "            break\n",
    "        else:\n",
    "            folder_duplicate_number+=1\n",
    "            check_folder_name=folder_name+\"-\"+str(folder_duplicate_number)\n",
    "    copytree(src_folder,check_folder_name)\n",
    "    copyIframeGeneratorToComponet(check_folder_name)\n",
    "    with output_app_cameo_map_tw:\n",
    "        print(check_folder_name+\" creating...\")\n",
    "\n",
    "def on_button_clicked_cameo_app_cameo_line(b):\n",
    "    src_folder=\"./components/app-cameo-line\"\n",
    "    folder_name=\"./app-cameo-line\"\n",
    "    check_folder_name=\"./app-cameo-line\"\n",
    "    folder_duplicate_number=0\n",
    "    while 1:\n",
    "        if not os.path.exists(check_folder_name):\n",
    "            os.makedirs(check_folder_name)\n",
    "            break\n",
    "        else:\n",
    "            folder_duplicate_number+=1\n",
    "            check_folder_name=folder_name+\"-\"+str(folder_duplicate_number)\n",
    "    copytree(src_folder,check_folder_name)\n",
    "    copyIframeGeneratorToComponet(check_folder_name)\n",
    "    with output_cameo_app_cameo_line:\n",
    "        print(check_folder_name+\" creating...\")\n",
    "        \n",
    "def on_button_clicked_cameo_divergent_stacked_bars(b):\n",
    "    src_folder=\"./components/app-cameo-divergent-stacked-bars\"\n",
    "    folder_name=\"./app-cameo-divergent-stacked-bars\"\n",
    "    check_folder_name=\"./app-cameo-divergent-stacked-bars\"\n",
    "    folder_duplicate_number=0\n",
    "    while 1:\n",
    "        if not os.path.exists(check_folder_name):\n",
    "            os.makedirs(check_folder_name)\n",
    "            break\n",
    "        else:\n",
    "            folder_duplicate_number+=1\n",
    "            check_folder_name=folder_name+\"-\"+str(folder_duplicate_number)\n",
    "    copytree(src_folder,check_folder_name)\n",
    "    copyIframeGeneratorToComponet(check_folder_name)\n",
    "    with output_app_cameo_divergent_stacked_bars:\n",
    "        print(check_folder_name+\" creating...\")\n",
    "\n",
    "button_app_cameo_run.on_click(on_button_clicked_app_cameo_run)        \n",
    "button_app_cameo_rank.on_click(on_button_clicked_app_cameo_rank)\n",
    "button_app_cameo_multi_axis_prediction.on_click(on_button_clicked_app_cameo_multi_axis_prediction)\n",
    "button_app_cameo_map_tw.on_click(on_button_clicked_app_cameo_map_tw)\n",
    "button_cameo_app_cameo_line.on_click(on_button_clicked_cameo_app_cameo_line)\n",
    "button_app_cameo_divergent_stacked_bars.on_click(on_button_clicked_cameo_divergent_stacked_bars)\n",
    "\n",
    "def copyIframeGeneratorToComponet(dist):\n",
    "    shutil.copy2(\"./get-iframe.ipynb\",dist)\n",
    "    \n",
    "\n",
    "def copytree(src, dst, symlinks=False, ignore=None):\n",
    "    for item in os.listdir(src):\n",
    "        s = os.path.join(src, item)\n",
    "        d = os.path.join(dst, item)\n",
    "        if os.path.isdir(s):\n",
    "            shutil.copytree(s, d, symlinks, ignore)\n",
    "        else:\n",
    "            shutil.copy2(s, d)"
   ]
  },
  {
   "cell_type": "code",
   "execution_count": null,
   "metadata": {},
   "outputs": [],
   "source": []
  }
 ],
 "metadata": {
  "kernelspec": {
   "display_name": "Python 3",
   "language": "python",
   "name": "python3"
  },
  "language_info": {
   "codemirror_mode": {
    "name": "ipython",
    "version": 3
   },
   "file_extension": ".py",
   "mimetype": "text/x-python",
   "name": "python",
   "nbconvert_exporter": "python",
   "pygments_lexer": "ipython3",
   "version": "3.7.3"
  }
 },
 "nbformat": 4,
 "nbformat_minor": 4
}
