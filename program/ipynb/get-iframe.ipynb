{
 "cells": [
  {
   "cell_type": "code",
   "execution_count": 1,
   "metadata": {},
   "outputs": [
    {
     "data": {
      "application/vnd.jupyter.widget-view+json": {
       "model_id": "52b320052a75443b89e6a4621ba186af",
       "version_major": 2,
       "version_minor": 0
      },
      "text/plain": [
       "Button(description='取得 iframe 碼', layout=Layout(height='40px', width='200px'), style=ButtonStyle())"
      ]
     },
     "metadata": {},
     "output_type": "display_data"
    },
    {
     "data": {
      "application/vnd.jupyter.widget-view+json": {
       "model_id": "f648fc95a5da42659f4e05dc3634f4a4",
       "version_major": 2,
       "version_minor": 0
      },
      "text/plain": [
       "Output()"
      ]
     },
     "metadata": {},
     "output_type": "display_data"
    }
   ],
   "source": [
    "import ipywidgets as widgets\n",
    "from ipywidgets import Button, Layout\n",
    "import os, shutil\n",
    "\n",
    "from IPython.display import display\n",
    "\n",
    "button_get_iframe = widgets.Button(description=\"取得 iframe 碼\",layout=Layout(width='200px', height='40px'))\n",
    "output_get_iframe = widgets.Output()\n",
    "\n",
    "display(button_get_iframe,output_get_iframe)\n",
    "\n",
    "def on_button_clicked_get_iframe(b):\n",
    "    with output_get_iframe:\n",
    "        print(\"iframe 碼如下\")\n",
    "        print(\"<iframe frameborder=\\\"0\\\" src=\\\"https://iek.cameo.tw/\"+os.getcwd().split(\"/\")[2]+\"/\"+os.path.basename(os.getcwd())+\"\\\" width=\\\"100%\\\" height=\\\"900\\\">\")\n",
    "\n",
    "button_get_iframe.on_click(on_button_clicked_get_iframe)"
   ]
  },
  {
   "cell_type": "code",
   "execution_count": null,
   "metadata": {},
   "outputs": [],
   "source": []
  }
 ],
 "metadata": {
  "kernelspec": {
   "display_name": "Python 3",
   "language": "python",
   "name": "python3"
  },
  "language_info": {
   "codemirror_mode": {
    "name": "ipython",
    "version": 3
   },
   "file_extension": ".py",
   "mimetype": "text/x-python",
   "name": "python",
   "nbconvert_exporter": "python",
   "pygments_lexer": "ipython3",
   "version": "3.7.3"
  }
 },
 "nbformat": 4,
 "nbformat_minor": 4
}
